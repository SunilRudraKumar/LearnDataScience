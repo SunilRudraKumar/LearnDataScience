{
  "nbformat": 4,
  "nbformat_minor": 0,
  "metadata": {
    "colab": {
      "provenance": [],
      "collapsed_sections": [
        "498982ca",
        "1054f63c",
        "8c3bbf87",
        "76d6f71b",
        "63ad4666"
      ]
    },
    "kernelspec": {
      "name": "python3",
      "display_name": "Python 3"
    },
    "language_info": {
      "name": "python"
    }
  },
  "cells": [
    {
      "cell_type": "markdown",
      "source": [
        "## Content\n",
        "- Quizzes\n",
        "\n",
        "- **Reshape with -ve index**\n",
        "\n",
        "\n",
        "\n",
        "- **Matrix Multiplication**\n",
        "    - `matmul()`, `@`, `dot()`\n",
        "\n",
        "\n",
        "\n",
        "- **Vectorization**\n",
        "    - `np.vectorize()`\n",
        "\n",
        "\n",
        "\n",
        "- **3D arrays**\n",
        "    \n",
        "\n",
        "\n"
      ],
      "metadata": {
        "id": "88OGPe_eVX4v"
      }
    },
    {
      "cell_type": "code",
      "source": [
        "import numpy as np"
      ],
      "metadata": {
        "id": "vRBR7h1VXfJG"
      },
      "execution_count": null,
      "outputs": []
    },
    {
      "cell_type": "markdown",
      "source": [
        "## Reshape in 2D array"
      ],
      "metadata": {
        "id": "0oXgEUU75DEe"
      }
    },
    {
      "cell_type": "markdown",
      "metadata": {
        "id": "A9OulPTH1t1x"
      },
      "source": [
        "#### We saw reshape and flatten. What if i want to convert a matrix to 1D array using `reshape()`\n",
        "#### Question: What should I pass in `A.reshape()` if I want to use it to convert `A` to 1D vector?\n",
        "\n",
        "- **(1, 1)?** - **NO**\n",
        "\n",
        "\n",
        "- It means we only have a single element\n",
        "\n",
        "\n",
        "- But **we don't have a single element**"
      ]
    },
    {
      "cell_type": "code",
      "source": [
        "A = np.arange(12).reshape(3,4)"
      ],
      "metadata": {
        "id": "FijYx9NZjZaG"
      },
      "execution_count": null,
      "outputs": []
    },
    {
      "cell_type": "code",
      "execution_count": null,
      "metadata": {
        "colab": {
          "base_uri": "https://localhost:8080/",
          "height": 170
        },
        "id": "RzDUkALz1t1y",
        "outputId": "892aa032-22a1-4dd3-ef2a-e5aced94f5a7"
      },
      "outputs": [
        {
          "output_type": "error",
          "ename": "ValueError",
          "evalue": "ignored",
          "traceback": [
            "\u001b[0;31m---------------------------------------------------------------------------\u001b[0m",
            "\u001b[0;31mValueError\u001b[0m                                Traceback (most recent call last)",
            "\u001b[0;32m<ipython-input-4-902e5c35e0d3>\u001b[0m in \u001b[0;36m<module>\u001b[0;34m\u001b[0m\n\u001b[0;32m----> 1\u001b[0;31m \u001b[0mA\u001b[0m\u001b[0;34m.\u001b[0m\u001b[0mreshape\u001b[0m\u001b[0;34m(\u001b[0m\u001b[0;36m1\u001b[0m\u001b[0;34m,\u001b[0m \u001b[0;36m1\u001b[0m\u001b[0;34m)\u001b[0m\u001b[0;34m\u001b[0m\u001b[0;34m\u001b[0m\u001b[0m\n\u001b[0m",
            "\u001b[0;31mValueError\u001b[0m: cannot reshape array of size 12 into shape (1,1)"
          ]
        }
      ],
      "source": [
        "A.reshape(1, 1)"
      ]
    },
    {
      "cell_type": "markdown",
      "metadata": {
        "id": "rX2QWIp_1t1z"
      },
      "source": [
        "- So, **(1, 12)?** - **NO**\n",
        "\n",
        "\n",
        "- It will **still remain a 2D Matrix with dimensions $1\\times12$**"
      ]
    },
    {
      "cell_type": "code",
      "execution_count": null,
      "metadata": {
        "colab": {
          "base_uri": "https://localhost:8080/"
        },
        "id": "pPqWV_GO1t10",
        "outputId": "4e54c264-46bb-4fb7-c99e-d1415f27dd61"
      },
      "outputs": [
        {
          "output_type": "execute_result",
          "data": {
            "text/plain": [
              "array([[ 0,  1,  2,  3,  4,  5,  6,  7,  8,  9, 10, 11]])"
            ]
          },
          "metadata": {},
          "execution_count": 5
        }
      ],
      "source": [
        "A.reshape(1, 12)"
      ]
    },
    {
      "cell_type": "markdown",
      "metadata": {
        "id": "O4A_m2Rn1t11"
      },
      "source": [
        "- **Correct answer is (12)**\n",
        "\n",
        "\n",
        "- We need a vector of dimension (12,)\n",
        "\n",
        "\n",
        "- So we need to pass only 1 dimension in `reshape()`"
      ]
    },
    {
      "cell_type": "code",
      "execution_count": null,
      "metadata": {
        "colab": {
          "base_uri": "https://localhost:8080/"
        },
        "id": "F-5twnGo1t12",
        "outputId": "c4144ff3-4d3f-47d1-9567-30a7c50b40bb"
      },
      "outputs": [
        {
          "output_type": "execute_result",
          "data": {
            "text/plain": [
              "array([ 0,  1,  2,  3,  4,  5,  6,  7,  8,  9, 10, 11])"
            ]
          },
          "metadata": {},
          "execution_count": 6
        }
      ],
      "source": [
        "A.reshape(12)"
      ]
    },
    {
      "cell_type": "markdown",
      "metadata": {
        "id": "P0NnpWgO1t13"
      },
      "source": [
        "#### So, Be careful while using `reshape()` to convert a Matrix into a 1D vector"
      ]
    },
    {
      "cell_type": "markdown",
      "metadata": {
        "id": "dlIoWTy01t13"
      },
      "source": [
        "#### What will happen if we pass a negative integer in `reshape()`?"
      ]
    },
    {
      "cell_type": "code",
      "execution_count": null,
      "metadata": {
        "colab": {
          "base_uri": "https://localhost:8080/"
        },
        "id": "Y0t3bcsB1t13",
        "outputId": "96a069f4-f580-4bd6-e559-60ef7467cb3d",
        "scrolled": true
      },
      "outputs": [
        {
          "output_type": "execute_result",
          "data": {
            "text/plain": [
              "array([[ 0,  1],\n",
              "       [ 2,  3],\n",
              "       [ 4,  5],\n",
              "       [ 6,  7],\n",
              "       [ 8,  9],\n",
              "       [10, 11]])"
            ]
          },
          "metadata": {},
          "execution_count": 7
        }
      ],
      "source": [
        "A.reshape(6, -1)"
      ]
    },
    {
      "cell_type": "markdown",
      "metadata": {
        "id": "9A538_eX1t14"
      },
      "source": [
        "#### Surprisingly, it did not give an error\n",
        "\n",
        "- It is able to **figure out on its own** what should be the **value in-place of negative integer**\n",
        "\n",
        "\n",
        "- Since **no. of elements in our matrix is 12**\n",
        "\n",
        "\n",
        "- And **we passed 6 as no. of rows**\n",
        "\n",
        "\n",
        "- It is **able to figure out** that **no. of columns should be 2**\n",
        "\n",
        "\n",
        "**Same thing happens with this:**"
      ]
    },
    {
      "cell_type": "code",
      "execution_count": null,
      "metadata": {
        "colab": {
          "base_uri": "https://localhost:8080/"
        },
        "id": "R2diZQ1K1t14",
        "outputId": "de4303b0-c097-410f-fff0-3d8b3275d7b7"
      },
      "outputs": [
        {
          "output_type": "execute_result",
          "data": {
            "text/plain": [
              "array([[ 0,  1,  2,  3,  4,  5],\n",
              "       [ 6,  7,  8,  9, 10, 11]])"
            ]
          },
          "metadata": {},
          "execution_count": 8
        }
      ],
      "source": [
        "A.reshape(-1, 6)"
      ]
    },
    {
      "cell_type": "markdown",
      "source": [
        "## Matrix multiplication"
      ],
      "metadata": {
        "id": "CdnIOCQcXLZU"
      }
    },
    {
      "cell_type": "markdown",
      "source": [
        "#### Question: What will be output of following?"
      ],
      "metadata": {
        "id": "UCgk6NgpXW2i"
      }
    },
    {
      "cell_type": "code",
      "source": [
        "a = np.arange(5)\n",
        "b = np.ones(5) * 2"
      ],
      "metadata": {
        "id": "YebHuQUHXeAv"
      },
      "execution_count": null,
      "outputs": []
    },
    {
      "cell_type": "code",
      "source": [
        "a * b"
      ],
      "metadata": {
        "colab": {
          "base_uri": "https://localhost:8080/"
        },
        "id": "kF7XX_1XXlBJ",
        "outputId": "e2bf1562-d315-41a8-cc85-fc60fe9bac2c"
      },
      "execution_count": null,
      "outputs": [
        {
          "output_type": "execute_result",
          "data": {
            "text/plain": [
              "array([0., 2., 4., 6., 8.])"
            ]
          },
          "metadata": {},
          "execution_count": 10
        }
      ]
    },
    {
      "cell_type": "markdown",
      "source": [
        "Recall that, if a and b are 1D, * operation will perform elementwise multiplication\n",
        "\n",
        "\n",
        "#### Lets try * with 2D arrays"
      ],
      "metadata": {
        "id": "TdimObCPXWRJ"
      }
    },
    {
      "cell_type": "code",
      "execution_count": null,
      "metadata": {
        "id": "aV3rJPbpUrQa",
        "outputId": "0ba6b1a2-7c63-4fe6-e917-00e5c294aba0",
        "colab": {
          "base_uri": "https://localhost:8080/"
        }
      },
      "outputs": [
        {
          "output_type": "execute_result",
          "data": {
            "text/plain": [
              "array([[ 0,  1,  2,  3],\n",
              "       [ 4,  5,  6,  7],\n",
              "       [ 8,  9, 10, 11]])"
            ]
          },
          "metadata": {},
          "execution_count": 11
        }
      ],
      "source": [
        "A = np.arange(12).reshape(3, 4)\n",
        "A"
      ]
    },
    {
      "cell_type": "code",
      "execution_count": null,
      "metadata": {
        "id": "xec5N0W1UrQb",
        "outputId": "feade4cf-79f3-48df-f874-360e80941705",
        "colab": {
          "base_uri": "https://localhost:8080/"
        }
      },
      "outputs": [
        {
          "output_type": "execute_result",
          "data": {
            "text/plain": [
              "array([[ 0,  1,  2,  3],\n",
              "       [ 4,  5,  6,  7],\n",
              "       [ 8,  9, 10, 11]])"
            ]
          },
          "metadata": {},
          "execution_count": 12
        }
      ],
      "source": [
        "B = np.arange(12).reshape(3, 4)\n",
        "B"
      ]
    },
    {
      "cell_type": "code",
      "execution_count": null,
      "metadata": {
        "id": "JI5-SporUrQb",
        "outputId": "5dcef61c-1935-425b-aafb-6f782644814d",
        "colab": {
          "base_uri": "https://localhost:8080/"
        }
      },
      "outputs": [
        {
          "output_type": "execute_result",
          "data": {
            "text/plain": [
              "array([[  0,   1,   4,   9],\n",
              "       [ 16,  25,  36,  49],\n",
              "       [ 64,  81, 100, 121]])"
            ]
          },
          "metadata": {},
          "execution_count": 13
        }
      ],
      "source": [
        "A * B"
      ]
    },
    {
      "cell_type": "markdown",
      "metadata": {
        "id": "4SnQnKV3UrQb"
      },
      "source": [
        "**Again did element-wise multiplication**\n",
        "\n",
        "#### For actual Matrix Multiplication, We have a different method/operator\n",
        "\n",
        "`np.matmul()`\n",
        "\n"
      ]
    },
    {
      "cell_type": "markdown",
      "source": [
        "\n",
        "#### What is the requirement of dimensions of 2 matrices for Matrix Multiplication?\n",
        "\n",
        "- **Columns of A = Rows of B** (A **Must condition** for Matric Multiplication)\n",
        "\n",
        "\n",
        "- **If A is $3\\times4$, B can be $4\\times3$**... or $4\\times(Something Else)$\n",
        "\n",
        "#### So, lets reshape B to $4\\times3$ instead"
      ],
      "metadata": {
        "id": "5BDC8d_-w3Jp"
      }
    },
    {
      "cell_type": "code",
      "execution_count": null,
      "metadata": {
        "id": "CgYJY5b9UrQc",
        "outputId": "f60415da-8976-49e2-ed76-3c3e61090058",
        "colab": {
          "base_uri": "https://localhost:8080/"
        }
      },
      "outputs": [
        {
          "output_type": "execute_result",
          "data": {
            "text/plain": [
              "array([[ 0,  1,  2],\n",
              "       [ 3,  4,  5],\n",
              "       [ 6,  7,  8],\n",
              "       [ 9, 10, 11]])"
            ]
          },
          "metadata": {},
          "execution_count": 14
        }
      ],
      "source": [
        "B = B.reshape(4, 3)\n",
        "B"
      ]
    },
    {
      "cell_type": "code",
      "execution_count": null,
      "metadata": {
        "id": "-gr53F0PUrQd",
        "outputId": "8a74b8e7-d8b0-4c44-f253-93e9126d5cbf",
        "colab": {
          "base_uri": "https://localhost:8080/"
        }
      },
      "outputs": [
        {
          "output_type": "execute_result",
          "data": {
            "text/plain": [
              "array([[ 42,  48,  54],\n",
              "       [114, 136, 158],\n",
              "       [186, 224, 262]])"
            ]
          },
          "metadata": {},
          "execution_count": 15
        }
      ],
      "source": [
        "np.matmul(A, B)"
      ]
    },
    {
      "cell_type": "markdown",
      "metadata": {
        "id": "91JXXYGSUrQd"
      },
      "source": [
        "- **We are getting a $3\\times3$ matrix as output**\n",
        "\n",
        "- So, this is doing Matrix Multiplication\n",
        "\n",
        "#### There's a direct operator as well for Matrix Multiplication\n",
        "`@`"
      ]
    },
    {
      "cell_type": "code",
      "execution_count": null,
      "metadata": {
        "id": "Yd6LfXFmUrQd",
        "outputId": "6342139b-65da-409e-cca9-017f9bced20d",
        "colab": {
          "base_uri": "https://localhost:8080/"
        }
      },
      "outputs": [
        {
          "output_type": "execute_result",
          "data": {
            "text/plain": [
              "array([[ 42,  48,  54],\n",
              "       [114, 136, 158],\n",
              "       [186, 224, 262]])"
            ]
          },
          "metadata": {},
          "execution_count": 16
        }
      ],
      "source": [
        "A @ B"
      ]
    },
    {
      "cell_type": "markdown",
      "metadata": {
        "id": "q7ZKcNV8UrQe"
      },
      "source": [
        "#### Question: What will be the dimensions of Matrix Multiplication `B @ A`?\n",
        "\n",
        "- $4\\times4$"
      ]
    },
    {
      "cell_type": "code",
      "execution_count": null,
      "metadata": {
        "id": "PWEH23fGUrQe",
        "outputId": "ec290753-f16a-4f6d-9e30-aeebeda89d06",
        "colab": {
          "base_uri": "https://localhost:8080/"
        }
      },
      "outputs": [
        {
          "output_type": "execute_result",
          "data": {
            "text/plain": [
              "array([[ 20,  23,  26,  29],\n",
              "       [ 56,  68,  80,  92],\n",
              "       [ 92, 113, 134, 155],\n",
              "       [128, 158, 188, 218]])"
            ]
          },
          "metadata": {},
          "execution_count": 17
        }
      ],
      "source": [
        "B @ A"
      ]
    },
    {
      "cell_type": "markdown",
      "metadata": {
        "id": "Dr1J9jo5UrQe"
      },
      "source": [
        "#### There is another method in np for doing Matrix Multiplication\n"
      ]
    },
    {
      "cell_type": "code",
      "execution_count": null,
      "metadata": {
        "id": "UDM9hAR2UrQe",
        "outputId": "43b723ac-64c3-4ac9-fd16-0fe91d275a40",
        "colab": {
          "base_uri": "https://localhost:8080/"
        }
      },
      "outputs": [
        {
          "output_type": "execute_result",
          "data": {
            "text/plain": [
              "array([[ 42,  48,  54],\n",
              "       [114, 136, 158],\n",
              "       [186, 224, 262]])"
            ]
          },
          "metadata": {},
          "execution_count": 18
        }
      ],
      "source": [
        "np.dot(A, B)"
      ]
    },
    {
      "cell_type": "markdown",
      "metadata": {
        "id": "9TsySgOUUrQe"
      },
      "source": [
        "**Other cases of `np.dot()`**\n",
        "- It performs dot product when both inputs are 1D array\n",
        "- It performs multiplication when both input are scalers.\n"
      ]
    },
    {
      "cell_type": "code",
      "execution_count": null,
      "metadata": {
        "id": "H-urOvgCUrQe"
      },
      "outputs": [],
      "source": [
        "a= np.array([1,2,3])\n",
        "b = np.array([1,1,1])\n"
      ]
    },
    {
      "cell_type": "code",
      "execution_count": null,
      "metadata": {
        "id": "oCO1QzwjUrQf",
        "outputId": "c2f0de6e-6942-415a-d92e-26588f576b77",
        "colab": {
          "base_uri": "https://localhost:8080/"
        }
      },
      "outputs": [
        {
          "output_type": "execute_result",
          "data": {
            "text/plain": [
              "6"
            ]
          },
          "metadata": {},
          "execution_count": 20
        }
      ],
      "source": [
        "np.dot(a,b) # 1*1 + 2*1 + 3*1 = 6"
      ]
    },
    {
      "cell_type": "code",
      "execution_count": null,
      "metadata": {
        "id": "OW5Kj5zsUrQf",
        "outputId": "9844d3fb-12b0-4f86-da99-ac4241ed9b17",
        "colab": {
          "base_uri": "https://localhost:8080/"
        }
      },
      "outputs": [
        {
          "output_type": "execute_result",
          "data": {
            "text/plain": [
              "20"
            ]
          },
          "metadata": {},
          "execution_count": 21
        }
      ],
      "source": [
        "np.dot(4,5)"
      ]
    },
    {
      "cell_type": "markdown",
      "metadata": {
        "id": "_YIkvBhzUrQf"
      },
      "source": [
        "#### Now, Let's try multiplication of a mix of matrices and vectors\n",
        "\n"
      ]
    },
    {
      "cell_type": "code",
      "execution_count": null,
      "metadata": {
        "id": "O2XUGlZQUrQf",
        "outputId": "fa180a9a-9aa1-43a8-cab8-3e1d55f9773d",
        "colab": {
          "base_uri": "https://localhost:8080/"
        }
      },
      "outputs": [
        {
          "output_type": "execute_result",
          "data": {
            "text/plain": [
              "array([[ 0,  1,  2,  3],\n",
              "       [ 4,  5,  6,  7],\n",
              "       [ 8,  9, 10, 11]])"
            ]
          },
          "metadata": {},
          "execution_count": 22
        }
      ],
      "source": [
        "A = np.arange(12).reshape(3, 4)  # A is a 3x4 Matrix\n",
        "A"
      ]
    },
    {
      "cell_type": "code",
      "execution_count": null,
      "metadata": {
        "id": "t8S_XfmwUrQf",
        "outputId": "68b43312-77ad-46b5-cd1d-e2f8418c0ce0",
        "colab": {
          "base_uri": "https://localhost:8080/"
        }
      },
      "outputs": [
        {
          "output_type": "stream",
          "name": "stdout",
          "text": [
            "(3,)\n"
          ]
        }
      ],
      "source": [
        "a = np.array([1, 2, 3])  # a although a (3,) can be thought of as row vector\n",
        "print(a.shape)"
      ]
    },
    {
      "cell_type": "code",
      "execution_count": null,
      "metadata": {
        "id": "Qio0fP63UrQh",
        "outputId": "0e4f41fe-251e-4bd5-fe6d-b9082729d0e9",
        "colab": {
          "base_uri": "https://localhost:8080/",
          "height": 170
        }
      },
      "outputs": [
        {
          "output_type": "error",
          "ename": "ValueError",
          "evalue": "ignored",
          "traceback": [
            "\u001b[0;31m---------------------------------------------------------------------------\u001b[0m",
            "\u001b[0;31mValueError\u001b[0m                                Traceback (most recent call last)",
            "\u001b[0;32m<ipython-input-25-76efef6bd8e9>\u001b[0m in \u001b[0;36m<module>\u001b[0;34m\u001b[0m\n\u001b[0;32m----> 1\u001b[0;31m \u001b[0mnp\u001b[0m\u001b[0;34m.\u001b[0m\u001b[0mmatmul\u001b[0m\u001b[0;34m(\u001b[0m\u001b[0mA\u001b[0m\u001b[0;34m,\u001b[0m \u001b[0ma\u001b[0m\u001b[0;34m)\u001b[0m\u001b[0;34m\u001b[0m\u001b[0;34m\u001b[0m\u001b[0m\n\u001b[0m",
            "\u001b[0;31mValueError\u001b[0m: matmul: Input operand 1 has a mismatch in its core dimension 0, with gufunc signature (n?,k),(k,m?)->(n?,m?) (size 3 is different from 4)"
          ]
        }
      ],
      "source": [
        "np.matmul(A, a)"
      ]
    },
    {
      "cell_type": "markdown",
      "metadata": {
        "id": "H68txXygUrQh"
      },
      "source": [
        "**Columns of `A` $\\neq$ Rows of `a`**\n",
        "\n",
        "Lets try revervse"
      ]
    },
    {
      "cell_type": "code",
      "execution_count": null,
      "metadata": {
        "id": "t0j5P-cGUrQh",
        "outputId": "cda2f445-a5f8-4789-c972-c0967569dd80",
        "colab": {
          "base_uri": "https://localhost:8080/"
        }
      },
      "outputs": [
        {
          "output_type": "execute_result",
          "data": {
            "text/plain": [
              "array([32, 38, 44, 50])"
            ]
          },
          "metadata": {},
          "execution_count": 26
        }
      ],
      "source": [
        "np.matmul(a, A)"
      ]
    },
    {
      "cell_type": "markdown",
      "metadata": {
        "id": "YAShrxj1UrQh"
      },
      "source": [
        "YES, **Columns of `a` (3) = Rows of `A` (3)**"
      ]
    },
    {
      "cell_type": "markdown",
      "metadata": {
        "id": "vSu5aF3yUrQi"
      },
      "source": [
        "## Vectorization\n",
        "\n",
        "- We have already seen vectorization some time ago\n",
        "\n",
        "#### Remember doing scaler operations on np arrays?\n",
        "\n",
        "`A * 2`\n",
        "\n",
        "#### That's vectorization\n",
        "\n",
        "- Replacing explicit loops with array expressions is commonly referred to as vectorization.\n",
        "\n",
        "- Vectorization helps us to **perform operations directly on Arrays instead of scaler**.\n",
        "\n",
        "- Operation gets performed on each element of np array\n",
        "\n",
        "#### Revisiting the example:"
      ]
    },
    {
      "cell_type": "code",
      "execution_count": null,
      "metadata": {
        "id": "I1ybqf-UUrQi"
      },
      "outputs": [],
      "source": [
        "A = np.arange(10)"
      ]
    },
    {
      "cell_type": "code",
      "execution_count": null,
      "metadata": {
        "id": "eXWiCTVWUrQi",
        "outputId": "3c604fca-0796-4fd6-80ba-4c67b469ed03",
        "colab": {
          "base_uri": "https://localhost:8080/"
        }
      },
      "outputs": [
        {
          "output_type": "execute_result",
          "data": {
            "text/plain": [
              "array([ 0,  2,  4,  6,  8, 10, 12, 14, 16, 18])"
            ]
          },
          "metadata": {},
          "execution_count": 28
        }
      ],
      "source": [
        "A * 2"
      ]
    },
    {
      "cell_type": "markdown",
      "metadata": {
        "id": "fJD26NAcUrQi"
      },
      "source": [
        "#### `np.vectorize()`\n",
        "\n",
        "- `np.vectorize()` defines a **vectorized function**\n",
        "\n",
        "\n",
        "- It **takes numpy arrays as inputs** and **returns a single numpy array or a tuple of numpy arrays**.\n",
        "\n",
        "\n",
        "- The vectorized function **evaluates element by element of the input arrays** like the python `map` function\n",
        "\n",
        "\n",
        "#### Let's plot graph for `y = log(x)` (Log function) using` np.vectorize()`\n",
        "\n",
        "- We will pass in a numpy array, as **it can then take a vector/array/list as input**\n",
        "\n",
        "\n",
        "- It will **return the vectorized form of `math.log()` function**"
      ]
    },
    {
      "cell_type": "code",
      "execution_count": null,
      "metadata": {
        "id": "sJ3PcyRJUrQj",
        "outputId": "07ee4631-79cf-4279-f653-d3b28270ac01",
        "colab": {
          "base_uri": "https://localhost:8080/"
        }
      },
      "outputs": [
        {
          "output_type": "display_data",
          "data": {
            "text/plain": [
              "<Figure size 432x288 with 1 Axes>"
            ],
            "image/png": "[encoded data removed]"
          },
          "metadata": {
            "needs_background": "light"
          }
        }
      ],
      "source": [
        "import math\n",
        "import matplotlib.pyplot as plt\n",
        "\n",
        "x = np.arange(1, 101)\n",
        "\n",
        "y = np.vectorize(math.log)(x)\n",
        "\n",
        "plt.plot(x, y)\n",
        "plt.show()"
      ]
    },
    {
      "cell_type": "code",
      "execution_count": null,
      "metadata": {
        "id": "Gk8qlbvZUrQj",
        "outputId": "bbaaff4c-f1b6-4888-b66e-9e86fa039e7c",
        "colab": {
          "base_uri": "https://localhost:8080/"
        }
      },
      "outputs": [
        {
          "output_type": "execute_result",
          "data": {
            "text/plain": [
              "array([0.        , 0.69314718, 1.09861229, 1.38629436, 1.60943791,\n",
              "       1.79175947, 1.94591015, 2.07944154, 2.19722458, 2.30258509,\n",
              "       2.39789527, 2.48490665, 2.56494936, 2.63905733, 2.7080502 ,\n",
              "       2.77258872, 2.83321334, 2.89037176, 2.94443898, 2.99573227,\n",
              "       3.04452244, 3.09104245, 3.13549422, 3.17805383, 3.21887582,\n",
              "       3.25809654, 3.29583687, 3.33220451, 3.36729583, 3.40119738,\n",
              "       3.4339872 , 3.4657359 , 3.49650756, 3.52636052, 3.55534806,\n",
              "       3.58351894, 3.61091791, 3.63758616, 3.66356165, 3.68887945,\n",
              "       3.71357207, 3.73766962, 3.76120012, 3.78418963, 3.80666249,\n",
              "       3.8286414 , 3.8501476 , 3.87120101, 3.8918203 , 3.91202301,\n",
              "       3.93182563, 3.95124372, 3.97029191, 3.98898405, 4.00733319,\n",
              "       4.02535169, 4.04305127, 4.06044301, 4.07753744, 4.09434456,\n",
              "       4.11087386, 4.12713439, 4.14313473, 4.15888308, 4.17438727,\n",
              "       4.18965474, 4.20469262, 4.21950771, 4.2341065 , 4.24849524,\n",
              "       4.26267988, 4.27666612, 4.29045944, 4.30406509, 4.31748811,\n",
              "       4.33073334, 4.34380542, 4.35670883, 4.36944785, 4.38202663,\n",
              "       4.39444915, 4.40671925, 4.41884061, 4.4308168 , 4.44265126,\n",
              "       4.4543473 , 4.46590812, 4.47733681, 4.48863637, 4.49980967,\n",
              "       4.51085951, 4.52178858, 4.53259949, 4.54329478, 4.55387689,\n",
              "       4.56434819, 4.57471098, 4.58496748, 4.59511985, 4.60517019])"
            ]
          },
          "metadata": {},
          "execution_count": 30
        }
      ],
      "source": [
        "y"
      ]
    },
    {
      "cell_type": "markdown",
      "metadata": {
        "id": "84275682"
      },
      "source": [
        "## 3 Dimensional Arrays"
      ]
    },
    {
      "cell_type": "markdown",
      "metadata": {
        "id": "WNL62nIwUrRq"
      },
      "source": [
        "### Vectors, Matrix and Tensors\n",
        "\n",
        "1. **Vector** ---> **1-Dimensional** Array\n",
        "2. **Matrix** ---> **2-Dimensional** Array\n",
        "3. **Tensor** ---> **3 and above Dimensional** Array\n",
        "\n",
        "\n",
        "#### `Tensor` is a general term we use\n",
        "\n",
        "- Tensor can also be less than 3D\n",
        "\n",
        "\n",
        "- **2D Tensor** is called a **Matrix**\n",
        "- **1D Tensor** is called a **Vector**"
      ]
    },
    {
      "cell_type": "code",
      "execution_count": null,
      "metadata": {
        "id": "0e204e9a",
        "outputId": "08492443-0ee4-4fdc-e4b0-7f43501e5ab9",
        "colab": {
          "base_uri": "https://localhost:8080/"
        }
      },
      "outputs": [
        {
          "output_type": "execute_result",
          "data": {
            "text/plain": [
              "array([[[ 0,  1,  2,  3],\n",
              "        [ 4,  5,  6,  7],\n",
              "        [ 8,  9, 10, 11]],\n",
              "\n",
              "       [[12, 13, 14, 15],\n",
              "        [16, 17, 18, 19],\n",
              "        [20, 21, 22, 23]]])"
            ]
          },
          "metadata": {},
          "execution_count": 31
        }
      ],
      "source": [
        "B = np.arange(24).reshape(2, 3, 4)\n",
        "B"
      ]
    },
    {
      "cell_type": "markdown",
      "metadata": {
        "id": "fef25073"
      },
      "source": [
        "#### Now, What is happening here?\n",
        "\n",
        "#### Question: How many dimensions `B` has?\n",
        "- 3\n",
        "\n",
        "\n",
        "- It's a **3-dimensional tensor**\n",
        "\n",
        "\n",
        "#### How is `reshape(2, 3, 4)` working?\n",
        "\n",
        "- If you see, it is giving 2 matrices\n",
        "\n",
        "\n",
        "- Each matrix has 3 rows and 4 columns\n",
        "\n",
        "\n",
        "#### So, that's how reshape() is interpreted for 3D\n",
        "\n",
        "- **1st argument** gives **depth** (No. of Matrices)\n",
        "\n",
        "\n",
        "- **2nd agrument** gives **no. of rows** in each depth\n",
        "\n",
        "\n",
        "- **3rd agrument** gives **no. of columns** in each depth\n",
        "\n",
        "\n",
        "#### How can I get just the whole of 1st Matrix?"
      ]
    },
    {
      "cell_type": "code",
      "execution_count": null,
      "metadata": {
        "id": "3c674264",
        "colab": {
          "base_uri": "https://localhost:8080/"
        },
        "outputId": "bd469354-d70f-45e0-99d1-fe46f6eb79c8"
      },
      "outputs": [
        {
          "output_type": "execute_result",
          "data": {
            "text/plain": [
              "array([[ 0,  1,  2,  3],\n",
              "       [ 4,  5,  6,  7],\n",
              "       [ 8,  9, 10, 11]])"
            ]
          },
          "metadata": {},
          "execution_count": 32
        }
      ],
      "source": [
        "B[0]"
      ]
    },
    {
      "cell_type": "markdown",
      "metadata": {
        "id": "ca052bd2"
      },
      "source": [
        "#### Question: What value will I get if I do `B[0, 0, 0]`?"
      ]
    },
    {
      "cell_type": "code",
      "execution_count": null,
      "metadata": {
        "id": "e89c0f1a",
        "colab": {
          "base_uri": "https://localhost:8080/"
        },
        "outputId": "057e3400-8d10-4339-c998-02d38b702c44"
      },
      "outputs": [
        {
          "output_type": "execute_result",
          "data": {
            "text/plain": [
              "0"
            ]
          },
          "metadata": {},
          "execution_count": 33
        }
      ],
      "source": [
        "B[0, 0, 0]"
      ]
    },
    {
      "cell_type": "code",
      "execution_count": null,
      "metadata": {
        "id": "7c00cc15",
        "colab": {
          "base_uri": "https://localhost:8080/"
        },
        "outputId": "e8690d30-823e-4c46-dacd-ea8950cf5215"
      },
      "outputs": [
        {
          "output_type": "execute_result",
          "data": {
            "text/plain": [
              "17"
            ]
          },
          "metadata": {},
          "execution_count": 34
        }
      ],
      "source": [
        "#### Question: What value will I get if I do `B[1, 1, 1]`?\n",
        "B[1, 1, 1]\n",
        "\n",
        "# It looks at Matrix 1, that is, 2nd Matrix (Not Matrix 0)\n",
        "# Then it looks at row 1 of matrix 1\n",
        "# Then it looks at column 1 of row 1 of matrix 1"
      ]
    },
    {
      "cell_type": "markdown",
      "metadata": {
        "id": "498982ca"
      },
      "source": [
        "#### We can also Slicing in 3-Dimensions\n",
        "\n",
        "- Works same as in 2-D matrices"
      ]
    }
  ]
}